{
 "cells": [
  {
   "cell_type": "code",
   "execution_count": null,
   "metadata": {
    "collapsed": true
   },
   "outputs": [],
   "source": [
    "fields = ['ITERATION', 'ENERGY', '1e-ENERGY', '2e-ENERGY', 'NORM[dD(SAO)]', 'TOL',\n",
    "          'Exc', 'N', 'Norm[diis error]']\n",
    "\n",
    "from fortranformat import FortranRecordReader\n",
    "\n",
    "FortranRecordReader('(I4,F18.11,F17.7,F17.7,E13.3,E10.2)').read(lines[4])"
   ]
  },
  {
   "cell_type": "code",
   "execution_count": null,
   "metadata": {
    "collapsed": true
   },
   "outputs": [],
   "source": [
    "raw = '''\n",
    " \n",
    "                                              current damping :  0.650\n",
    " ITERATION  ENERGY          1e-ENERGY        2e-ENERGY     NORM[dD(SAO)]  TOL\n",
    "   5  -800.90831057908    -3344.4859460     1407.4390040    0.316D+00 0.167D-10\n",
    "                            Exc =  -109.654430018853     N = 124.00120409    \n",
    "          Norm of current diis error: 0.35473    \n",
    "          max. resid. norm for Fia-block=  1.632D-02 for orbital     56a         \n",
    "          max. resid. fock norm         =  5.640D-02 for orbital    722a         \n",
    "          irrep a   : virtual orbitals shifted by    0.09398\n",
    " mo-orthogonalization: Cholesky decomposition\n",
    "          Delta Eig. =    13.9367250550 eV \n",
    " \n",
    "'''"
   ]
  },
  {
   "cell_type": "code",
   "execution_count": 1,
   "metadata": {
    "collapsed": true
   },
   "outputs": [],
   "source": [
    "from io import StringIO\n",
    "\n",
    "with open('data/aoforce.out') as f:\n",
    "    raw = StringIO(f.read())"
   ]
  },
  {
   "cell_type": "code",
   "execution_count": 5,
   "metadata": {
    "collapsed": false
   },
   "outputs": [],
   "source": [
    "anchor_txt = '''\n",
    "\n",
    "          ---------------------------------------------------\n",
    "          NORMAL MODES and VIBRATIONAL FREQUENCIES (cm**(-1))\n",
    "          ---------------------------------------------------\n",
    "\n",
    "'''"
   ]
  },
  {
   "cell_type": "code",
   "execution_count": 100,
   "metadata": {
    "collapsed": true
   },
   "outputs": [],
   "source": [
    "from io import StringIO\n",
    "from pyparsing import Word, nums, Literal, LineStart, LineEnd, OneOrMore\n",
    "from fortranformat import FortranRecordReader"
   ]
  },
  {
   "cell_type": "code",
   "execution_count": 98,
   "metadata": {
    "collapsed": false
   },
   "outputs": [],
   "source": [
    "class VibrSpectrum(object):\n",
    "    anchor = LineStart() + Word('-') + Literal('NORMAL MODES and VIBRATIONAL FREQUENCIES (cm**(-1))') + Word('-') + LineEnd()\n",
    "    anchor_mode = LineStart() + Literal('mode') + OneOrMore(Word(nums)) + LineEnd()\n",
    "    \n",
    "    def __init__(self, raw, natoms):\n",
    "        self.raw = StringIO(raw)\n",
    "        self.natoms = natoms\n",
    "        self.nmodes = natoms * 3\n",
    "        self._parse()\n",
    "    \n",
    "    def _scan_forward(self, anchor, before_match=False):\n",
    "        loc = self.raw.tell()\n",
    "        scanner = anchor.scanString(self.raw.read())\n",
    "        match, start, end = next(scanner)\n",
    "        print(match)\n",
    "        scanner.close()\n",
    "        if before_match:\n",
    "            self.raw.seek(loc + start)\n",
    "        else:\n",
    "            self.raw.seek(loc + end)\n",
    "    \n",
    "    def _chunks(self, sequence, n):\n",
    "        \"\"\"Yield successive n-sized chunks from sequence.\"\"\"\n",
    "        for i in range(0, len(sequence), n):\n",
    "            yield sequence[i:i+n]\n",
    "    \n",
    "    def _parse(self):\n",
    "        NCOLS = 6\n",
    "        self._scan_forward(VibrSpectrum.anchor)\n",
    "        for chunk in self._chunks(range(self.nmodes), NCOLS):\n",
    "            self._parse_block(chunk)\n",
    "    \n",
    "    def _parse_block(self, mode_indices):\n",
    "        self._scan_forward(VibrSpectrum.anchor_mode, before_match=True)\n",
    "        "
   ]
  },
  {
   "cell_type": "code",
   "execution_count": 99,
   "metadata": {
    "collapsed": false
   },
   "outputs": [
    {
     "name": "stdout",
     "output_type": "stream",
     "text": [
      "['---------------------------------------------------', 'NORMAL MODES and VIBRATIONAL FREQUENCIES (cm**(-1))', '---------------------------------------------------', '\\n']\n",
      "['mode', '1', '2', '3', '4', '5', '6', '\\n']\n",
      "['mode', '7', '8', '9', '10', '11', '12', '\\n']\n",
      "['mode', '13', '14', '15', '16', '17', '18', '\\n']\n",
      "['mode', '19', '20', '21', '22', '23', '24', '\\n']\n",
      "['mode', '25', '26', '27', '28', '29', '30', '\\n']\n",
      "['mode', '31', '32', '33', '34', '35', '36', '\\n']\n",
      "['mode', '37', '38', '39', '40', '41', '42', '\\n']\n",
      "['mode', '43', '44', '45', '46', '47', '48', '\\n']\n",
      "['mode', '49', '50', '51', '52', '53', '54', '\\n']\n",
      "['mode', '55', '56', '57', '58', '59', '60', '\\n']\n",
      "['mode', '61', '62', '63', '64', '65', '66', '\\n']\n",
      "['mode', '67', '68', '69', '70', '71', '72', '\\n']\n"
     ]
    },
    {
     "data": {
      "text/plain": [
       "<__main__.VibrSpectrum at 0x7fcdca68eef0>"
      ]
     },
     "execution_count": 99,
     "metadata": {},
     "output_type": "execute_result"
    }
   ],
   "source": [
    "raw.seek(0)\n",
    "VibrSpectrum(raw.getvalue(), 24)"
   ]
  },
  {
   "cell_type": "code",
   "execution_count": 68,
   "metadata": {
    "collapsed": true
   },
   "outputs": [],
   "source": [
    "sample = '''\n",
    "adfasdfasdfasdfasdfasdf fasdf sdf dfasdf dfasd sdfasdf fasdf f asdfsadfdsf\n",
    "\n",
    "\n",
    "       mode              61       62       63       64       65       66\n",
    "\n",
    "     frequency        2944.50  2965.81  2987.14  3011.15  3098.67  3103.94\n",
    "\n",
    "     symmetry            a        a        a        a        a        a   \n",
    "\n",
    "        IR               YES      YES      YES      -        YES      YES\n",
    "|dDIP/dQ|   (a.u.)     0.0044   0.0044   0.0040   0.0051   0.0013   0.0012\n",
    "intensity (km/mol)      34.90    34.99    28.78    47.10     2.92     2.56\n",
    "intensity (  %   )      17.49    17.53    14.42    23.60     1.46     1.28\n",
    " \n",
    "       RAMAN             YES      YES      YES      YES      YES      YES\n",
    "\n",
    "'''\n",
    "\n",
    "raw_block = StringIO(sample)\n",
    "lines = raw_block.readlines()"
   ]
  },
  {
   "cell_type": "code",
   "execution_count": 76,
   "metadata": {
    "collapsed": false
   },
   "outputs": [],
   "source": [
    "mode_anchor = LineStart() + Literal('mode') + Word(nums) * 6 + LineEnd()"
   ]
  },
  {
   "cell_type": "code",
   "execution_count": 77,
   "metadata": {
    "collapsed": false
   },
   "outputs": [
    {
     "data": {
      "text/plain": [
       "([(['mode', '61', '62', '63', '64', '65', '66', '\\n'], {})], {})"
      ]
     },
     "execution_count": 77,
     "metadata": {},
     "output_type": "execute_result"
    }
   ],
   "source": [
    "mode_anchor.searchString(sample)"
   ]
  },
  {
   "cell_type": "code",
   "execution_count": 41,
   "metadata": {
    "collapsed": true
   },
   "outputs": [],
   "source": [
    "frequncy_line = FortranRecordReader('(A20,6F9.2)')\n",
    "symmetry_line = FortranRecordReader('(A20,6A9)')\n",
    "IR_line = FortranRecordReader('(A20,6A9)')"
   ]
  },
  {
   "cell_type": "code",
   "execution_count": 42,
   "metadata": {
    "collapsed": false
   },
   "outputs": [
    {
     "data": {
      "text/plain": [
       "['     frequency      ', 2944.5, 2965.81, 2987.14, 3011.15, 3098.67, 3103.94]"
      ]
     },
     "execution_count": 42,
     "metadata": {},
     "output_type": "execute_result"
    }
   ],
   "source": [
    "frequncy_line.read(lines[6])"
   ]
  },
  {
   "cell_type": "code",
   "execution_count": 5,
   "metadata": {
    "collapsed": true
   },
   "outputs": [],
   "source": [
    "import re"
   ]
  },
  {
   "cell_type": "code",
   "execution_count": 15,
   "metadata": {
    "collapsed": false
   },
   "outputs": [],
   "source": [
    "label = 'mode', pattern = '\\d+', n = 6, converter = int\n",
    "\n",
    "match = re.search(r'^\\s+mode((\\s+\\d+){6})\\s+$', sample, re.MULTILINE)\n",
    "[int(mode_id) for mode_id in match.groups(0)[0].split()]"
   ]
  },
  {
   "cell_type": "code",
   "execution_count": 23,
   "metadata": {
    "collapsed": false
   },
   "outputs": [
    {
     "data": {
      "text/plain": [
       "[2944.5, 2965.81, 2987.14, 3011.15, 3098.67, 3103.94]"
      ]
     },
     "execution_count": 23,
     "metadata": {},
     "output_type": "execute_result"
    }
   ],
   "source": [
    "match = re.search(r'^\\s+frequency((\\s+[\\d.]+){6})\\s+$', sample, re.MULTILINE)\n",
    "[float(freq) for freq in match.groups(0)[0].split()]"
   ]
  },
  {
   "cell_type": "code",
   "execution_count": 40,
   "metadata": {
    "collapsed": false
   },
   "outputs": [],
   "source": [
    "match = re.search(r'^\\s+IR((\\s+(YES)|(-)){6}\\s*$)', sample, re.MULTILINE)\n",
    "match\n",
    "#[float(freq) for freq in match.groups(0)[0].split()]"
   ]
  },
  {
   "cell_type": "code",
   "execution_count": 44,
   "metadata": {
    "collapsed": true
   },
   "outputs": [],
   "source": [
    "from pyparsing import Word, nums, Literal, Or"
   ]
  },
  {
   "cell_type": "code",
   "execution_count": 62,
   "metadata": {
    "collapsed": false
   },
   "outputs": [],
   "source": [
    "Integer = Word(nums).setParseAction(lambda x: int(x[0]))\n",
    "Float = Word(nums+'.')\n",
    "YesNo = Or(['-', 'YES'])"
   ]
  },
  {
   "cell_type": "code",
   "execution_count": 68,
   "metadata": {
    "collapsed": true
   },
   "outputs": [],
   "source": [
    "ir_activity = Literal('IR') + (YesNo * 6)\n",
    "mode_label = Literal('mode') + (Integer('is') * 3) + (Integer('iis') * 3)"
   ]
  },
  {
   "cell_type": "code",
   "execution_count": 77,
   "metadata": {
    "collapsed": false
   },
   "outputs": [],
   "source": [
    "res = ir_activity.scanString(sample)"
   ]
  },
  {
   "cell_type": "code",
   "execution_count": 79,
   "metadata": {
    "collapsed": false
   },
   "outputs": [
    {
     "data": {
      "text/plain": [
       "((['IR', 'YES', 'YES', 'YES', '-', 'YES', 'YES'], {}), 236, 301)"
      ]
     },
     "execution_count": 79,
     "metadata": {},
     "output_type": "execute_result"
    }
   ],
   "source": [
    "next(res)"
   ]
  }
 ],
 "metadata": {
  "anaconda-cloud": {},
  "kernelspec": {
   "display_name": "Python 3",
   "language": "python",
   "name": "python3"
  },
  "language_info": {
   "codemirror_mode": {
    "name": "ipython",
    "version": 3
   },
   "file_extension": ".py",
   "mimetype": "text/x-python",
   "name": "python",
   "nbconvert_exporter": "python",
   "pygments_lexer": "ipython3",
   "version": "3.5.2"
  }
 },
 "nbformat": 4,
 "nbformat_minor": 0
}

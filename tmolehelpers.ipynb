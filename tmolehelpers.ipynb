{
 "cells": [
  {
   "cell_type": "code",
   "execution_count": null,
   "metadata": {
    "collapsed": true
   },
   "outputs": [],
   "source": [
    "fields = ['ITERATION', 'ENERGY', '1e-ENERGY', '2e-ENERGY', 'NORM[dD(SAO)]', 'TOL',\n",
    "          'Exc', 'N', 'Norm[diis error]']\n",
    "\n",
    "from fortranformat import FortranRecordReader\n",
    "\n",
    "FortranRecordReader('(I4,F18.11,F17.7,F17.7,E13.3,E10.2)').read(lines[4])"
   ]
  },
  {
   "cell_type": "code",
   "execution_count": null,
   "metadata": {
    "collapsed": true
   },
   "outputs": [],
   "source": [
    "raw = '''\n",
    " \n",
    "                                              current damping :  0.650\n",
    " ITERATION  ENERGY          1e-ENERGY        2e-ENERGY     NORM[dD(SAO)]  TOL\n",
    "   5  -800.90831057908    -3344.4859460     1407.4390040    0.316D+00 0.167D-10\n",
    "                            Exc =  -109.654430018853     N = 124.00120409    \n",
    "          Norm of current diis error: 0.35473    \n",
    "          max. resid. norm for Fia-block=  1.632D-02 for orbital     56a         \n",
    "          max. resid. fock norm         =  5.640D-02 for orbital    722a         \n",
    "          irrep a   : virtual orbitals shifted by    0.09398\n",
    " mo-orthogonalization: Cholesky decomposition\n",
    "          Delta Eig. =    13.9367250550 eV \n",
    " \n",
    "'''"
   ]
  },
  {
   "cell_type": "code",
   "execution_count": 2,
   "metadata": {
    "collapsed": true
   },
   "outputs": [],
   "source": [
    "from io import StringIO\n",
    "\n",
    "with open('data/aoforce.out') as f:\n",
    "    raw = StringIO(f.read())"
   ]
  },
  {
   "cell_type": "code",
   "execution_count": null,
   "metadata": {
    "collapsed": false
   },
   "outputs": [],
   "source": [
    "anchor_txt = '''\n",
    "\n",
    "          ---------------------------------------------------\n",
    "          NORMAL MODES and VIBRATIONAL FREQUENCIES (cm**(-1))\n",
    "          ---------------------------------------------------\n",
    "\n",
    "'''"
   ]
  },
  {
   "cell_type": "code",
   "execution_count": 19,
   "metadata": {
    "collapsed": true
   },
   "outputs": [],
   "source": [
    "from io import StringIO\n",
    "from pyparsing import Word, nums, Literal, LineStart, LineEnd, OneOrMore\n",
    "from fortranformat import FortranRecordReader\n",
    "import pandas as pd"
   ]
  },
  {
   "cell_type": "code",
   "execution_count": 58,
   "metadata": {
    "collapsed": false
   },
   "outputs": [],
   "source": [
    "class FortranLineParser(object):\n",
    "    def __init__(self, pattern, name=None,\n",
    "                 skip=None, strip_whitespace=True, map_values=None,\n",
    "                 after_read_hook=None):\n",
    "        self._reader = FortranRecordReader(pattern)\n",
    "        self.name = name\n",
    "        self._skip = [skip] if isinstance(skip, int) else skip\n",
    "        self._strip_whitespace = strip_whitespace\n",
    "        self._map_values = map_values if isinstance(map_values, dict) else None\n",
    "        self._after_read_hook = after_read_hook\n",
    "    \n",
    "    def __call__(self, line):\n",
    "        data = self._reader.read(line)\n",
    "        if self._skip:\n",
    "            skip = self._skip\n",
    "            data = [_ for i, _ in enumerate(data) if i not in skip]\n",
    "        if self._strip_whitespace:\n",
    "            data = [(_.strip() if isinstance(_, str) else _) for _ in data]\n",
    "        if self._map_values:\n",
    "            _map = self._map_values\n",
    "            data = [(_map[_] if _ in _map else _) for _ in data]\n",
    "        if self._after_read_hook:\n",
    "            data = self._after_read_hook(data)\n",
    "        return data"
   ]
  },
  {
   "cell_type": "code",
   "execution_count": 67,
   "metadata": {
    "collapsed": false
   },
   "outputs": [
    {
     "data": {
      "text/plain": [
       "[1, 2, 3, 4, 5, 0, 3]"
      ]
     },
     "execution_count": 67,
     "metadata": {},
     "output_type": "execute_result"
    }
   ],
   "source": [
    "l = [1,2,3,4,5]\n",
    "skip = [0,3]\n",
    "l += skip\n",
    "l"
   ]
  },
  {
   "cell_type": "code",
   "execution_count": 60,
   "metadata": {
    "collapsed": true
   },
   "outputs": [],
   "source": [
    "class BaseParser(object):\n",
    "    def __init__(self, raw):\n",
    "        self.raw = StringIO(raw)\n",
    "    \n",
    "    def _scan_forward(self, anchor, before_match=False):\n",
    "        loc = self.raw.tell()\n",
    "        scanner = anchor.scanString(self.raw.read())\n",
    "        match, start, end = next(scanner)\n",
    "        scanner.close()\n",
    "        if before_match:\n",
    "            self.raw.seek(loc + start)\n",
    "        else:\n",
    "            self.raw.seek(loc + end)\n",
    "    \n",
    "    def _next_content_line(self, skip=0):\n",
    "        while True:\n",
    "            line = self.raw.readline()\n",
    "            if line is '':\n",
    "                raise RuntimeError('EOF reached')\n",
    "            if line.strip() is not '':\n",
    "                if skip > 0:\n",
    "                    skip -= 1\n",
    "                else:\n",
    "                    return line\n",
    "    \n",
    "    def _chunks(self, sequence, n):\n",
    "        \"\"\"Yield successive n-sized chunks from sequence.\"\"\"\n",
    "        for i in range(0, len(sequence), n):\n",
    "            yield sequence[i:i+n]"
   ]
  },
  {
   "cell_type": "code",
   "execution_count": 68,
   "metadata": {
    "collapsed": false
   },
   "outputs": [],
   "source": [
    "from collections import defaultdict\n",
    "\n",
    "class VibrSpectrum(BaseParser):\n",
    "    _anchors = {\n",
    "        'MAIN': LineStart() + Word('-') + Literal('NORMAL MODES and VIBRATIONAL FREQUENCIES (cm**(-1))') + Word('-') + LineEnd(),\n",
    "        'MODE': LineStart() + Literal('mode') + OneOrMore(Word(nums)) + LineEnd(),\n",
    "    }\n",
    "    \n",
    "    _parser = {\n",
    "        'MODE': FortranLineParser('(A20,6I9)', skip=0),\n",
    "        'FREQUENCY': FortranLineParser('(A20,6F9.2)', skip=0),\n",
    "        'IR': FortranLineParser('(A20,6A9)', skip=0, map_values={'YES': True, '-': False}),\n",
    "    }\n",
    "    \n",
    "    def __init__(self, raw, natoms):\n",
    "        self.raw = StringIO(raw)\n",
    "        self.natoms = natoms\n",
    "        self.nmodes = natoms * 3\n",
    "        self._data = None\n",
    "        self._parse('_data')\n",
    "        print(self._data)\n",
    "    \n",
    "    def _parse(self, datastore_key):\n",
    "        NCOLS = 6\n",
    "        self._scan_forward(VibrSpectrum._anchors['MAIN'])\n",
    "        datastore = defaultdict(list)\n",
    "        for chunk in self._chunks(range(self.nmodes), NCOLS):\n",
    "            self._parse_block(chunk, datastore)\n",
    "        self.__dict__[datastore_key] = pd.DataFrame(datastore)\n",
    "    \n",
    "    def _parse_block(self, mode_indices, datastore):\n",
    "        self._scan_forward(VibrSpectrum._anchors['MODE'], before_match=True)\n",
    "        line = self._next_content_line()\n",
    "        datastore['MODE'] += self._parser['MODE'](line)\n",
    "        line = self._next_content_line()\n",
    "        datastore['FREQUENCY'] += self._parser['FREQUENCY'](line)\n",
    "        line = self._next_content_line(skip=1)\n",
    "        datastore['IR'] += self._parser['IR'](line)\n",
    "        "
   ]
  },
  {
   "cell_type": "code",
   "execution_count": 69,
   "metadata": {
    "collapsed": false
   },
   "outputs": [
    {
     "name": "stdout",
     "output_type": "stream",
     "text": [
      "    FREQUENCY     IR  MODE\n",
      "0        0.00  False     1\n",
      "1        0.00  False     2\n",
      "2        0.00  False     3\n",
      "3        0.00  False     4\n",
      "4        0.00  False     5\n",
      "5        0.00  False     6\n",
      "6       35.16   True     7\n",
      "7       75.53   True     8\n",
      "8      126.00   True     9\n",
      "9      171.29   True    10\n",
      "10     211.05   True    11\n",
      "11     242.74   True    12\n",
      "12     295.71   True    13\n",
      "13     333.81   True    14\n",
      "14     370.87   True    15\n",
      "15     398.44   True    16\n",
      "16     447.83   True    17\n",
      "17     460.96   True    18\n",
      "18     523.95   True    19\n",
      "19     546.84   True    20\n",
      "20     563.81   True    21\n",
      "21     619.54   True    22\n",
      "22     684.43   True    23\n",
      "23     710.89   True    24\n",
      "24     714.52   True    25\n",
      "25     746.39   True    26\n",
      "26     757.28   True    27\n",
      "27     805.30   True    28\n",
      "28     818.05   True    29\n",
      "29     835.24   True    30\n",
      "..        ...    ...   ...\n",
      "42    1197.74   True    43\n",
      "43    1214.75   True    44\n",
      "44    1239.26   True    45\n",
      "45    1282.01   True    46\n",
      "46    1305.85   True    47\n",
      "47    1329.32   True    48\n",
      "48    1345.01   True    49\n",
      "49    1352.74   True    50\n",
      "50    1363.87   True    51\n",
      "51    1412.14   True    52\n",
      "52    1426.91   True    53\n",
      "53    1438.70   True    54\n",
      "54    1443.36   True    55\n",
      "55    1481.80   True    56\n",
      "56    1544.63   True    57\n",
      "57    1570.58   True    58\n",
      "58    1615.63   True    59\n",
      "59    1616.79   True    60\n",
      "60    2944.50   True    61\n",
      "61    2965.81   True    62\n",
      "62    2987.14   True    63\n",
      "63    3011.15   True    64\n",
      "64    3098.67   True    65\n",
      "65    3103.94   True    66\n",
      "66    3114.37   True    67\n",
      "67    3126.34   True    68\n",
      "68    3175.83   True    69\n",
      "69    3388.75   True    70\n",
      "70    3472.13   True    71\n",
      "71    3588.63   True    72\n",
      "\n",
      "[72 rows x 3 columns]\n"
     ]
    },
    {
     "data": {
      "text/plain": [
       "<__main__.VibrSpectrum at 0x7f41b3dba2b0>"
      ]
     },
     "execution_count": 69,
     "metadata": {},
     "output_type": "execute_result"
    }
   ],
   "source": [
    "raw.seek(0)\n",
    "VibrSpectrum(raw.getvalue(), 24)"
   ]
  },
  {
   "cell_type": "code",
   "execution_count": null,
   "metadata": {
    "collapsed": true
   },
   "outputs": [],
   "source": [
    "sample = '''\n",
    "adfasdfasdfasdfasdfasdf fasdf sdf dfasdf dfasd sdfasdf fasdf f asdfsadfdsf\n",
    "\n",
    "\n",
    "       mode              61       62       63       64       65       66\n",
    "\n",
    "     frequency        2944.50  2965.81  2987.14  3011.15  3098.67  3103.94\n",
    "\n",
    "     symmetry            a        a        a        a        a        a   \n",
    "\n",
    "        IR               YES      YES      YES      -        YES      YES\n",
    "|dDIP/dQ|   (a.u.)     0.0044   0.0044   0.0040   0.0051   0.0013   0.0012\n",
    "intensity (km/mol)      34.90    34.99    28.78    47.10     2.92     2.56\n",
    "intensity (  %   )      17.49    17.53    14.42    23.60     1.46     1.28\n",
    " \n",
    "       RAMAN             YES      YES      YES      YES      YES      YES\n",
    "\n",
    "'''\n",
    "\n",
    "raw_block = StringIO(sample)\n",
    "lines = raw_block.readlines()"
   ]
  },
  {
   "cell_type": "code",
   "execution_count": null,
   "metadata": {
    "collapsed": false
   },
   "outputs": [],
   "source": [
    "mode_anchor = LineStart() + Literal('mode') + Word(nums) * 6 + LineEnd()"
   ]
  },
  {
   "cell_type": "code",
   "execution_count": null,
   "metadata": {
    "collapsed": false
   },
   "outputs": [],
   "source": [
    "mode_anchor.searchString(sample)"
   ]
  },
  {
   "cell_type": "code",
   "execution_count": null,
   "metadata": {
    "collapsed": true
   },
   "outputs": [],
   "source": [
    "frequncy_line = FortranRecordReader('(A20,6F9.2)')\n",
    "symmetry_line = FortranRecordReader('(A20,6A9)')\n",
    "IR_line = FortranRecordReader('(A20,6A9)')"
   ]
  },
  {
   "cell_type": "code",
   "execution_count": null,
   "metadata": {
    "collapsed": false
   },
   "outputs": [],
   "source": [
    "frequncy_line.read(lines[6])"
   ]
  },
  {
   "cell_type": "code",
   "execution_count": null,
   "metadata": {
    "collapsed": true
   },
   "outputs": [],
   "source": [
    "import re"
   ]
  },
  {
   "cell_type": "code",
   "execution_count": null,
   "metadata": {
    "collapsed": false
   },
   "outputs": [],
   "source": [
    "label = 'mode', pattern = '\\d+', n = 6, converter = int\n",
    "\n",
    "match = re.search(r'^\\s+mode((\\s+\\d+){6})\\s+$', sample, re.MULTILINE)\n",
    "[int(mode_id) for mode_id in match.groups(0)[0].split()]"
   ]
  },
  {
   "cell_type": "code",
   "execution_count": null,
   "metadata": {
    "collapsed": false
   },
   "outputs": [],
   "source": [
    "match = re.search(r'^\\s+frequency((\\s+[\\d.]+){6})\\s+$', sample, re.MULTILINE)\n",
    "[float(freq) for freq in match.groups(0)[0].split()]"
   ]
  },
  {
   "cell_type": "code",
   "execution_count": null,
   "metadata": {
    "collapsed": false
   },
   "outputs": [],
   "source": [
    "match = re.search(r'^\\s+IR((\\s+(YES)|(-)){6}\\s*$)', sample, re.MULTILINE)\n",
    "match\n",
    "#[float(freq) for freq in match.groups(0)[0].split()]"
   ]
  },
  {
   "cell_type": "code",
   "execution_count": null,
   "metadata": {
    "collapsed": true
   },
   "outputs": [],
   "source": [
    "from pyparsing import Word, nums, Literal, Or"
   ]
  },
  {
   "cell_type": "code",
   "execution_count": null,
   "metadata": {
    "collapsed": false
   },
   "outputs": [],
   "source": [
    "Integer = Word(nums).setParseAction(lambda x: int(x[0]))\n",
    "Float = Word(nums+'.')\n",
    "YesNo = Or(['-', 'YES'])"
   ]
  },
  {
   "cell_type": "code",
   "execution_count": null,
   "metadata": {
    "collapsed": true
   },
   "outputs": [],
   "source": [
    "ir_activity = Literal('IR') + (YesNo * 6)\n",
    "mode_label = Literal('mode') + (Integer('is') * 3) + (Integer('iis') * 3)"
   ]
  },
  {
   "cell_type": "code",
   "execution_count": null,
   "metadata": {
    "collapsed": false
   },
   "outputs": [],
   "source": [
    "res = ir_activity.scanString(sample)"
   ]
  },
  {
   "cell_type": "code",
   "execution_count": null,
   "metadata": {
    "collapsed": false
   },
   "outputs": [],
   "source": [
    "next(res)"
   ]
  }
 ],
 "metadata": {
  "anaconda-cloud": {},
  "kernelspec": {
   "display_name": "Python 3",
   "language": "python",
   "name": "python3"
  },
  "language_info": {
   "codemirror_mode": {
    "name": "ipython",
    "version": 3
   },
   "file_extension": ".py",
   "mimetype": "text/x-python",
   "name": "python",
   "nbconvert_exporter": "python",
   "pygments_lexer": "ipython3",
   "version": "3.5.2"
  }
 },
 "nbformat": 4,
 "nbformat_minor": 0
}

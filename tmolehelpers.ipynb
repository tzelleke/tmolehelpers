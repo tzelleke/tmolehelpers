{
 "cells": [
  {
   "cell_type": "code",
   "execution_count": null,
   "metadata": {
    "collapsed": true
   },
   "outputs": [],
   "source": [
    "fields = ['ITERATION', 'ENERGY', '1e-ENERGY', '2e-ENERGY', 'NORM[dD(SAO)]', 'TOL',\n",
    "          'Exc', 'N', 'Norm[diis error]']\n",
    "\n",
    "from fortranformat import FortranRecordReader\n",
    "\n",
    "FortranRecordReader('(I4,F18.11,F17.7,F17.7,E13.3,E10.2)').read(lines[4])"
   ]
  },
  {
   "cell_type": "code",
   "execution_count": null,
   "metadata": {
    "collapsed": true
   },
   "outputs": [],
   "source": [
    "raw = '''\n",
    " \n",
    "                                              current damping :  0.650\n",
    " ITERATION  ENERGY          1e-ENERGY        2e-ENERGY     NORM[dD(SAO)]  TOL\n",
    "   5  -800.90831057908    -3344.4859460     1407.4390040    0.316D+00 0.167D-10\n",
    "                            Exc =  -109.654430018853     N = 124.00120409    \n",
    "          Norm of current diis error: 0.35473    \n",
    "          max. resid. norm for Fia-block=  1.632D-02 for orbital     56a         \n",
    "          max. resid. fock norm         =  5.640D-02 for orbital    722a         \n",
    "          irrep a   : virtual orbitals shifted by    0.09398\n",
    " mo-orthogonalization: Cholesky decomposition\n",
    "          Delta Eig. =    13.9367250550 eV \n",
    " \n",
    "'''"
   ]
  },
  {
   "cell_type": "code",
   "execution_count": 2,
   "metadata": {
    "collapsed": true
   },
   "outputs": [],
   "source": [
    "from io import StringIO\n",
    "\n",
    "with open('data/aoforce.out') as f:\n",
    "    raw = StringIO(f.read())"
   ]
  },
  {
   "cell_type": "code",
   "execution_count": null,
   "metadata": {
    "collapsed": false
   },
   "outputs": [],
   "source": [
    "anchor_txt = '''\n",
    "\n",
    "          ---------------------------------------------------\n",
    "          NORMAL MODES and VIBRATIONAL FREQUENCIES (cm**(-1))\n",
    "          ---------------------------------------------------\n",
    "\n",
    "'''"
   ]
  },
  {
   "cell_type": "code",
   "execution_count": 19,
   "metadata": {
    "collapsed": true
   },
   "outputs": [],
   "source": [
    "from io import StringIO\n",
    "from pyparsing import Word, nums, Literal, LineStart, LineEnd, OneOrMore\n",
    "from fortranformat import FortranRecordReader\n",
    "import pandas as pd"
   ]
  },
  {
   "cell_type": "code",
   "execution_count": 33,
   "metadata": {
    "collapsed": true
   },
   "outputs": [],
   "source": [
    "class FortranLineParser(object):\n",
    "    def __init__(self, pattern, name=None, after_read_hook=None):\n",
    "        self._reader = FortranRecordReader(pattern)\n",
    "        self.name = name\n",
    "        self._after_read_hook = after_read_hook\n",
    "    \n",
    "    def __call__(self, line):\n",
    "        data = self._reader.read(line)\n",
    "        return self._after_read_hook(data)"
   ]
  },
  {
   "cell_type": "code",
   "execution_count": 34,
   "metadata": {
    "collapsed": true
   },
   "outputs": [],
   "source": [
    "class BaseParser(object):\n",
    "    def __init__(self, raw):\n",
    "        self.raw = StringIO(raw)\n",
    "    \n",
    "    def _scan_forward(self, anchor, before_match=False):\n",
    "        loc = self.raw.tell()\n",
    "        scanner = anchor.scanString(self.raw.read())\n",
    "        match, start, end = next(scanner)\n",
    "        scanner.close()\n",
    "        if before_match:\n",
    "            self.raw.seek(loc + start)\n",
    "        else:\n",
    "            self.raw.seek(loc + end)\n",
    "    \n",
    "    def _next_content_line(self, skip=0):\n",
    "        while True:\n",
    "            line = self.raw.readline()\n",
    "            if line is '':\n",
    "                raise RuntimeError('EOF reached')\n",
    "            if line.strip() is not '':\n",
    "                if skip > 0:\n",
    "                    skip -= 1\n",
    "                else:\n",
    "                    return line"
   ]
  },
  {
   "cell_type": "code",
   "execution_count": 35,
   "metadata": {
    "collapsed": false
   },
   "outputs": [],
   "source": [
    "class VibrSpectrum(BaseParser):\n",
    "    _anchors = {\n",
    "        'MAIN': LineStart() + Word('-') + Literal('NORMAL MODES and VIBRATIONAL FREQUENCIES (cm**(-1))') + Word('-') + LineEnd(),\n",
    "        'MODE': LineStart() + Literal('mode') + OneOrMore(Word(nums)) + LineEnd(),\n",
    "    }\n",
    "    \n",
    "    _parser = {\n",
    "        'MODE': FortranRecordReader('(A20,6I9)'),\n",
    "        'FREQUENCY': FortranRecordReader('(A20,6F9.2)'),\n",
    "        'IR': FortranRecordReader('(A20,6A9)'),\n",
    "    }\n",
    "    \n",
    "    def __init__(self, raw, natoms):\n",
    "        self.raw = StringIO(raw)\n",
    "        self.natoms = natoms\n",
    "        self.nmodes = natoms * 3\n",
    "        self._data = pd.DataFrame(columns=['MODE', 'FREQUENCY', 'IR'])\n",
    "        self._parse(self._data)\n",
    "    \n",
    "    def _chunks(self, sequence, n):\n",
    "        \"\"\"Yield successive n-sized chunks from sequence.\"\"\"\n",
    "        for i in range(0, len(sequence), n):\n",
    "            yield sequence[i:i+n]\n",
    "    \n",
    "    def _parse(self, df):\n",
    "        NCOLS = 6\n",
    "        self._scan_forward(VibrSpectrum._anchors['MAIN'])\n",
    "        data = {\n",
    "            'MODE': [],\n",
    "            'FREQUENCY': [],\n",
    "            'IR': []\n",
    "        }\n",
    "        for chunk in self._chunks(range(self.nmodes), NCOLS):\n",
    "            modes, frequencies, ir = self._parse_block(chunk)\n",
    "            data['MODE'].extend(modes)\n",
    "            data['FREQUENCY'].extend(frequencies)\n",
    "            data['IR'].extend(ir)\n",
    "        print(data['MODE'])\n",
    "        print(data['FREQUENCY'])\n",
    "    \n",
    "    def _parse_block(self, mode_indices):\n",
    "        self._scan_forward(VibrSpectrum._anchors['MODE'], before_match=True)\n",
    "        line = self._next_content_line()\n",
    "        modes = self._parser['MODE'].read(line)\n",
    "        line = self._next_content_line()\n",
    "        frequencies = self._parser['FREQUENCY'].read(line)\n",
    "        line = self._next_content_line(skip=1)\n",
    "        ir = self._parser['IR'].read(line)\n",
    "        ir = [_.strip() for _ in ir]\n",
    "        return modes[1:], frequencies[1:], ir[1:]\n",
    "        "
   ]
  },
  {
   "cell_type": "code",
   "execution_count": 36,
   "metadata": {
    "collapsed": false
   },
   "outputs": [
    {
     "name": "stdout",
     "output_type": "stream",
     "text": [
      "[1, 2, 3, 4, 5, 6, 7, 8, 9, 10, 11, 12, 13, 14, 15, 16, 17, 18, 19, 20, 21, 22, 23, 24, 25, 26, 27, 28, 29, 30, 31, 32, 33, 34, 35, 36, 37, 38, 39, 40, 41, 42, 43, 44, 45, 46, 47, 48, 49, 50, 51, 52, 53, 54, 55, 56, 57, 58, 59, 60, 61, 62, 63, 64, 65, 66, 67, 68, 69, 70, 71, 72]\n",
      "[0.0, 0.0, 0.0, 0.0, 0.0, 0.0, 35.16, 75.53, 126.0, 171.29, 211.05, 242.74, 295.71, 333.81, 370.87, 398.44, 447.83, 460.96, 523.95, 546.84, 563.81, 619.54, 684.43, 710.89, 714.52, 746.39, 757.28, 805.3, 818.05, 835.24, 862.9, 866.23, 885.6, 897.48, 974.85, 1011.22, 1032.92, 1076.42, 1081.26, 1112.5, 1130.46, 1149.67, 1197.74, 1214.75, 1239.26, 1282.01, 1305.85, 1329.32, 1345.01, 1352.74, 1363.87, 1412.14, 1426.91, 1438.7, 1443.36, 1481.8, 1544.63, 1570.58, 1615.63, 1616.79, 2944.5, 2965.81, 2987.14, 3011.15, 3098.67, 3103.94, 3114.37, 3126.34, 3175.83, 3388.75, 3472.13, 3588.63]\n"
     ]
    },
    {
     "data": {
      "text/plain": [
       "<__main__.VibrSpectrum at 0x7f41b3e7c668>"
      ]
     },
     "execution_count": 36,
     "metadata": {},
     "output_type": "execute_result"
    }
   ],
   "source": [
    "raw.seek(0)\n",
    "VibrSpectrum(raw.getvalue(), 24)"
   ]
  },
  {
   "cell_type": "code",
   "execution_count": null,
   "metadata": {
    "collapsed": true
   },
   "outputs": [],
   "source": [
    "sample = '''\n",
    "adfasdfasdfasdfasdfasdf fasdf sdf dfasdf dfasd sdfasdf fasdf f asdfsadfdsf\n",
    "\n",
    "\n",
    "       mode              61       62       63       64       65       66\n",
    "\n",
    "     frequency        2944.50  2965.81  2987.14  3011.15  3098.67  3103.94\n",
    "\n",
    "     symmetry            a        a        a        a        a        a   \n",
    "\n",
    "        IR               YES      YES      YES      -        YES      YES\n",
    "|dDIP/dQ|   (a.u.)     0.0044   0.0044   0.0040   0.0051   0.0013   0.0012\n",
    "intensity (km/mol)      34.90    34.99    28.78    47.10     2.92     2.56\n",
    "intensity (  %   )      17.49    17.53    14.42    23.60     1.46     1.28\n",
    " \n",
    "       RAMAN             YES      YES      YES      YES      YES      YES\n",
    "\n",
    "'''\n",
    "\n",
    "raw_block = StringIO(sample)\n",
    "lines = raw_block.readlines()"
   ]
  },
  {
   "cell_type": "code",
   "execution_count": null,
   "metadata": {
    "collapsed": false
   },
   "outputs": [],
   "source": [
    "mode_anchor = LineStart() + Literal('mode') + Word(nums) * 6 + LineEnd()"
   ]
  },
  {
   "cell_type": "code",
   "execution_count": null,
   "metadata": {
    "collapsed": false
   },
   "outputs": [],
   "source": [
    "mode_anchor.searchString(sample)"
   ]
  },
  {
   "cell_type": "code",
   "execution_count": null,
   "metadata": {
    "collapsed": true
   },
   "outputs": [],
   "source": [
    "frequncy_line = FortranRecordReader('(A20,6F9.2)')\n",
    "symmetry_line = FortranRecordReader('(A20,6A9)')\n",
    "IR_line = FortranRecordReader('(A20,6A9)')"
   ]
  },
  {
   "cell_type": "code",
   "execution_count": null,
   "metadata": {
    "collapsed": false
   },
   "outputs": [],
   "source": [
    "frequncy_line.read(lines[6])"
   ]
  },
  {
   "cell_type": "code",
   "execution_count": null,
   "metadata": {
    "collapsed": true
   },
   "outputs": [],
   "source": [
    "import re"
   ]
  },
  {
   "cell_type": "code",
   "execution_count": null,
   "metadata": {
    "collapsed": false
   },
   "outputs": [],
   "source": [
    "label = 'mode', pattern = '\\d+', n = 6, converter = int\n",
    "\n",
    "match = re.search(r'^\\s+mode((\\s+\\d+){6})\\s+$', sample, re.MULTILINE)\n",
    "[int(mode_id) for mode_id in match.groups(0)[0].split()]"
   ]
  },
  {
   "cell_type": "code",
   "execution_count": null,
   "metadata": {
    "collapsed": false
   },
   "outputs": [],
   "source": [
    "match = re.search(r'^\\s+frequency((\\s+[\\d.]+){6})\\s+$', sample, re.MULTILINE)\n",
    "[float(freq) for freq in match.groups(0)[0].split()]"
   ]
  },
  {
   "cell_type": "code",
   "execution_count": null,
   "metadata": {
    "collapsed": false
   },
   "outputs": [],
   "source": [
    "match = re.search(r'^\\s+IR((\\s+(YES)|(-)){6}\\s*$)', sample, re.MULTILINE)\n",
    "match\n",
    "#[float(freq) for freq in match.groups(0)[0].split()]"
   ]
  },
  {
   "cell_type": "code",
   "execution_count": null,
   "metadata": {
    "collapsed": true
   },
   "outputs": [],
   "source": [
    "from pyparsing import Word, nums, Literal, Or"
   ]
  },
  {
   "cell_type": "code",
   "execution_count": null,
   "metadata": {
    "collapsed": false
   },
   "outputs": [],
   "source": [
    "Integer = Word(nums).setParseAction(lambda x: int(x[0]))\n",
    "Float = Word(nums+'.')\n",
    "YesNo = Or(['-', 'YES'])"
   ]
  },
  {
   "cell_type": "code",
   "execution_count": null,
   "metadata": {
    "collapsed": true
   },
   "outputs": [],
   "source": [
    "ir_activity = Literal('IR') + (YesNo * 6)\n",
    "mode_label = Literal('mode') + (Integer('is') * 3) + (Integer('iis') * 3)"
   ]
  },
  {
   "cell_type": "code",
   "execution_count": null,
   "metadata": {
    "collapsed": false
   },
   "outputs": [],
   "source": [
    "res = ir_activity.scanString(sample)"
   ]
  },
  {
   "cell_type": "code",
   "execution_count": null,
   "metadata": {
    "collapsed": false
   },
   "outputs": [],
   "source": [
    "next(res)"
   ]
  }
 ],
 "metadata": {
  "anaconda-cloud": {},
  "kernelspec": {
   "display_name": "Python 3",
   "language": "python",
   "name": "python3"
  },
  "language_info": {
   "codemirror_mode": {
    "name": "ipython",
    "version": 3
   },
   "file_extension": ".py",
   "mimetype": "text/x-python",
   "name": "python",
   "nbconvert_exporter": "python",
   "pygments_lexer": "ipython3",
   "version": "3.5.2"
  }
 },
 "nbformat": 4,
 "nbformat_minor": 0
}

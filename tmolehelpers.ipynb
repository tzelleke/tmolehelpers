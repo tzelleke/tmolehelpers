{
 "cells": [
  {
   "cell_type": "code",
   "execution_count": 1,
   "metadata": {
    "collapsed": true
   },
   "outputs": [],
   "source": [
    "with open('data/aoforce.out') as f:\n",
    "    raw = f.read()"
   ]
  },
  {
   "cell_type": "code",
   "execution_count": 3,
   "metadata": {
    "collapsed": false
   },
   "outputs": [],
   "source": [
    "from io import StringIO"
   ]
  },
  {
   "cell_type": "code",
   "execution_count": 39,
   "metadata": {
    "collapsed": true
   },
   "outputs": [],
   "source": [
    "sample = '''\n",
    "\n",
    "       mode              61       62       63       64       65       66\n",
    "\n",
    "     frequency        2944.50  2965.81  2987.14  3011.15  3098.67  3103.94\n",
    "\n",
    "     symmetry            a        a        a        a        a        a   \n",
    "\n",
    "        IR               YES      YES      YES      -        YES      YES\n",
    "|dDIP/dQ|   (a.u.)     0.0044   0.0044   0.0040   0.0051   0.0013   0.0012\n",
    "intensity (km/mol)      34.90    34.99    28.78    47.10     2.92     2.56\n",
    "intensity (  %   )      17.49    17.53    14.42    23.60     1.46     1.28\n",
    " \n",
    "       RAMAN             YES      YES      YES      YES      YES      YES\n",
    "\n",
    "'''"
   ]
  },
  {
   "cell_type": "code",
   "execution_count": 5,
   "metadata": {
    "collapsed": true
   },
   "outputs": [],
   "source": [
    "import re"
   ]
  },
  {
   "cell_type": "code",
   "execution_count": 15,
   "metadata": {
    "collapsed": false
   },
   "outputs": [],
   "source": [
    "label = 'mode', pattern = '\\d+', n = 6, converter = int\n",
    "\n",
    "match = re.search(r'^\\s+mode((\\s+\\d+){6})\\s+$', sample, re.MULTILINE)\n",
    "[int(mode_id) for mode_id in match.groups(0)[0].split()]"
   ]
  },
  {
   "cell_type": "code",
   "execution_count": 23,
   "metadata": {
    "collapsed": false
   },
   "outputs": [
    {
     "data": {
      "text/plain": [
       "[2944.5, 2965.81, 2987.14, 3011.15, 3098.67, 3103.94]"
      ]
     },
     "execution_count": 23,
     "metadata": {},
     "output_type": "execute_result"
    }
   ],
   "source": [
    "match = re.search(r'^\\s+frequency((\\s+[\\d.]+){6})\\s+$', sample, re.MULTILINE)\n",
    "[float(freq) for freq in match.groups(0)[0].split()]"
   ]
  },
  {
   "cell_type": "code",
   "execution_count": 40,
   "metadata": {
    "collapsed": false
   },
   "outputs": [],
   "source": [
    "match = re.search(r'^\\s+IR((\\s+(YES)|(-)){6}\\s*$)', sample, re.MULTILINE)\n",
    "match\n",
    "#[float(freq) for freq in match.groups(0)[0].split()]"
   ]
  },
  {
   "cell_type": "code",
   "execution_count": 44,
   "metadata": {
    "collapsed": true
   },
   "outputs": [],
   "source": [
    "from pyparsing import Word, nums, Literal, Or"
   ]
  },
  {
   "cell_type": "code",
   "execution_count": 62,
   "metadata": {
    "collapsed": false
   },
   "outputs": [],
   "source": [
    "Integer = Word(nums).setParseAction(lambda x: int(x[0]))\n",
    "Float = Word(nums+'.')\n",
    "YesNo = Or(['-', 'YES'])"
   ]
  },
  {
   "cell_type": "code",
   "execution_count": 68,
   "metadata": {
    "collapsed": true
   },
   "outputs": [],
   "source": [
    "ir_activity = Literal('IR') + (YesNo * 6)\n",
    "mode_label = Literal('mode') + (Integer('is') * 3) + (Integer('iis') * 3)"
   ]
  },
  {
   "cell_type": "code",
   "execution_count": 77,
   "metadata": {
    "collapsed": false
   },
   "outputs": [],
   "source": [
    "res = ir_activity.scanString(sample)"
   ]
  },
  {
   "cell_type": "code",
   "execution_count": 79,
   "metadata": {
    "collapsed": false
   },
   "outputs": [
    {
     "data": {
      "text/plain": [
       "((['IR', 'YES', 'YES', 'YES', '-', 'YES', 'YES'], {}), 236, 301)"
      ]
     },
     "execution_count": 79,
     "metadata": {},
     "output_type": "execute_result"
    }
   ],
   "source": [
    "next(res)"
   ]
  }
 ],
 "metadata": {
  "anaconda-cloud": {},
  "kernelspec": {
   "display_name": "Python [Root]",
   "language": "python",
   "name": "Python [Root]"
  },
  "language_info": {
   "codemirror_mode": {
    "name": "ipython",
    "version": 3
   },
   "file_extension": ".py",
   "mimetype": "text/x-python",
   "name": "python",
   "nbconvert_exporter": "python",
   "pygments_lexer": "ipython3",
   "version": "3.5.2"
  }
 },
 "nbformat": 4,
 "nbformat_minor": 0
}
